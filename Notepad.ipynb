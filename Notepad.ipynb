{
 "cells": [
  {
   "cell_type": "code",
   "execution_count": 33,
   "metadata": {},
   "outputs": [
    {
     "name": "stdout",
     "output_type": "stream",
     "text": [
      "None\n"
     ]
    }
   ],
   "source": [
    "from tkinter import *\n",
    "from tkinter import scrolledtext\n",
    "from tkinter import filedialog\n",
    "from tkinter import messagebox\n",
    "root=Tk()\n",
    "root.geometry('500x500')\n",
    "root.title(\"Notepad\")\n",
    "v=StringVar()\n",
    "i=0\n",
    "def help():\n",
    "    gui=Tk()\n",
    "    gui.geometry('500x500')\n",
    "    f.open('Help.txt','a+')\n",
    "    f.write(\"This is a Notepad which is used to create documnet, file etc.\")\n",
    "    gui.mainloop()\n",
    "    \n",
    "    \n",
    "def new():\n",
    "    global v\n",
    "    \n",
    "    gui=Tk()\n",
    "    gui.geometry('500x500')\n",
    "    f=open(\"1.txt\",'a+')\n",
    "    \n",
    "    data=f.write(e.get())\n",
    "    t=Text(gui,height=30,width=100,bg='white')\n",
    "    t.insert(END,data)\n",
    "    t.pack()\n",
    "    gui.mainloop()\n",
    "        \n",
    "def save():\n",
    "    root.file=filedialog.asksaveasfile(initialdir='/',title=\"select file\",filetypes=((\"all files\",\"*.*\"),(\"Python Files\",\"*.py\"),('Text Document',\"*.txt\")),defaultextension=((\"all files\",\"*.*\"),(\"Python Files\",\"*.py\"),('Text Document',\"*.txt\")))\n",
    "    print(root.file)\n",
    "\n",
    "def oopen():\n",
    "    root.file=filedialog.askopenfile(initialdir='/',title=\"open file\",filetypes=((\"all files\",\"*.*\"),(\"Python Files\",\"*.py\"),('Text Document',\"*.txt\")),defaultextension=((\"all files\",\"*.*\"),(\"Python Files\",\"*.py\"),('Text Document',\"*.txt\")))\n",
    "    print(root.file)\n",
    "def cut():\n",
    "    t.event_generate('<<cut>>')\n",
    "e=Entry(root,width=400,font=(\"Times\",12))\n",
    "e.focus_set()\n",
    "e.pack()\n",
    "t=Text(root)\n",
    "t.pack()\n",
    "text=scrolledtext.ScrolledText(root,width=100,height=80)\n",
    "menuu=Menu(root)\n",
    "file=Menu(menuu,tearoff=0)\n",
    "file.add_command(label='New',command=new)\n",
    "file.add_command(label='Save',command=save)\n",
    "file.add_command(label='Save as',command=save)\n",
    "file.add_command(label='open',command=oopen)\n",
    "file.add_command(label='Exit',command=root.destroy)\n",
    "menuu.add_cascade(label='File',menu=file)\n",
    "\n",
    "edit=Menu(menuu,tearoff=0)\n",
    "edit.add_command(label='Undo')\n",
    "edit.add_command(label='Cut')\n",
    "edit.add_command(label='Copy')\n",
    "edit.add_command(label='Paste')\n",
    "edit.add_command(label='Delete')\n",
    "edit.add_command(label='Select All')\n",
    "menuu.add_cascade(label='Edit',menu=edit)\n",
    "\n",
    "Help=Menu(menuu)\n",
    "Help.add_command(label='About Notepad',command=help)\n",
    "menuu.add_cascade(label='Help',menu=Help)\n",
    "\n",
    "\n",
    "root.config(menu=menuu)\n",
    "root.mainloop()\n"
   ]
  },
  {
   "cell_type": "code",
   "execution_count": null,
   "metadata": {},
   "outputs": [],
   "source": []
  }
 ],
 "metadata": {
  "kernelspec": {
   "display_name": "Python 3",
   "language": "python",
   "name": "python3"
  },
  "language_info": {
   "codemirror_mode": {
    "name": "ipython",
    "version": 3
   },
   "file_extension": ".py",
   "mimetype": "text/x-python",
   "name": "python",
   "nbconvert_exporter": "python",
   "pygments_lexer": "ipython3",
   "version": "3.7.0"
  }
 },
 "nbformat": 4,
 "nbformat_minor": 2
}
